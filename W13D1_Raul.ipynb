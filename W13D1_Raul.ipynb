{
 "cells": [
  {
   "cell_type": "code",
   "execution_count": 1,
   "id": "22129a6d-cbe7-411e-8b73-55368e56e9d3",
   "metadata": {},
   "outputs": [
    {
     "name": "stdout",
     "output_type": "stream",
     "text": [
      "25\n"
     ]
    }
   ],
   "source": [
    "s=25\n",
    "print(s)"
   ]
  },
  {
   "cell_type": "code",
   "execution_count": 3,
   "id": "c4977960-ce49-45df-bda9-b3c2d433078c",
   "metadata": {},
   "outputs": [
    {
     "name": "stdout",
     "output_type": "stream",
     "text": [
      "3\n"
     ]
    }
   ],
   "source": [
    "ns=3\n",
    "print(ns)"
   ]
  },
  {
   "cell_type": "code",
   "execution_count": 7,
   "id": "538798e4-f8eb-47dc-81ed-6d035cfd40eb",
   "metadata": {},
   "outputs": [
    {
     "name": "stdout",
     "output_type": "stream",
     "text": [
      "28\n"
     ]
    }
   ],
   "source": [
    "sm=s+ns\n",
    "print(sm)"
   ]
  },
  {
   "cell_type": "code",
   "execution_count": 22,
   "id": "a9bb4423-4394-4805-b026-b6382ec48a2d",
   "metadata": {},
   "outputs": [
    {
     "data": {
      "text/plain": [
       "28"
      ]
     },
     "execution_count": 22,
     "metadata": {},
     "output_type": "execute_result"
    }
   ],
   "source": [
    "s+ns"
   ]
  },
  {
   "cell_type": "code",
   "execution_count": 9,
   "id": "57a876b9-93d1-448c-b0be-ed04c25e13fe",
   "metadata": {},
   "outputs": [
    {
     "name": "stdout",
     "output_type": "stream",
     "text": [
      "EPICODE\n"
     ]
    }
   ],
   "source": [
    "ep=\"EPICODE\"\n",
    "print(ep)"
   ]
  },
  {
   "cell_type": "code",
   "execution_count": 11,
   "id": "90dec542-1e13-4907-b2ec-ed47f23dc360",
   "metadata": {},
   "outputs": [
    {
     "data": {
      "text/plain": [
       "36"
      ]
     },
     "execution_count": 11,
     "metadata": {},
     "output_type": "execute_result"
    }
   ],
   "source": [
    "x=10\n",
    "(x+2)*3"
   ]
  },
  {
   "cell_type": "code",
   "execution_count": 40,
   "id": "05132a81-3052-4d8c-9dc0-e3691c45b1ee",
   "metadata": {},
   "outputs": [
    {
     "data": {
      "text/plain": [
       "36"
      ]
     },
     "execution_count": 40,
     "metadata": {},
     "output_type": "execute_result"
    }
   ],
   "source": [
    "x=10\n",
    "x += 2\n",
    "x *= 3\n",
    "x"
   ]
  },
  {
   "cell_type": "code",
   "execution_count": null,
   "id": "26aef878-9215-477a-9c54-455f321bc647",
   "metadata": {},
   "outputs": [],
   "source": []
  },
  {
   "cell_type": "code",
   "execution_count": null,
   "id": "db68ca28-6852-41a5-9766-30575faaaf0f",
   "metadata": {},
   "outputs": [],
   "source": []
  },
  {
   "cell_type": "code",
   "execution_count": 46,
   "id": "3ea0c9ad-8c4b-44e4-b2a1-362f736ad814",
   "metadata": {},
   "outputs": [
    {
     "data": {
      "text/plain": [
       "4"
      ]
     },
     "execution_count": 46,
     "metadata": {},
     "output_type": "execute_result"
    }
   ],
   "source": [
    "str1 = \"Windows\"\n",
    "str2 = \"Excel\"\n",
    "str3 = \"Powerpoint\"\n",
    "str4 = \"Word\"\n",
    "len(str1)\n",
    "len(str2)\n",
    "len(str3)\n",
    "len(str4)"
   ]
  },
  {
   "cell_type": "code",
   "execution_count": 86,
   "id": "47d188e9-9bc6-4d3b-a44f-3ddd6d94146c",
   "metadata": {},
   "outputs": [
    {
     "data": {
      "text/plain": [
       "7"
      ]
     },
     "execution_count": 86,
     "metadata": {},
     "output_type": "execute_result"
    }
   ],
   "source": [
    "len(str1)"
   ]
  },
  {
   "cell_type": "code",
   "execution_count": 48,
   "id": "7496ff27-4d5b-454b-ba17-a3b82d2a35c3",
   "metadata": {},
   "outputs": [
    {
     "data": {
      "text/plain": [
       "5"
      ]
     },
     "execution_count": 48,
     "metadata": {},
     "output_type": "execute_result"
    }
   ],
   "source": [
    "len(str2)"
   ]
  },
  {
   "cell_type": "code",
   "execution_count": 50,
   "id": "96d7e3bc-260f-4883-b3de-8d73ccb60eba",
   "metadata": {},
   "outputs": [
    {
     "data": {
      "text/plain": [
       "10"
      ]
     },
     "execution_count": 50,
     "metadata": {},
     "output_type": "execute_result"
    }
   ],
   "source": [
    "len(str3)"
   ]
  },
  {
   "cell_type": "code",
   "execution_count": 54,
   "id": "ffe43df3-24c7-4745-9cb2-8605818645fb",
   "metadata": {},
   "outputs": [
    {
     "data": {
      "text/plain": [
       "4"
      ]
     },
     "execution_count": 54,
     "metadata": {},
     "output_type": "execute_result"
    }
   ],
   "source": [
    "len(str4)"
   ]
  },
  {
   "cell_type": "code",
   "execution_count": 72,
   "id": "375852d0-026f-4e6a-96de-032c5602bcfd",
   "metadata": {},
   "outputs": [
    {
     "data": {
      "text/plain": [
       "8760"
      ]
     },
     "execution_count": 72,
     "metadata": {},
     "output_type": "execute_result"
    }
   ],
   "source": [
    "g=365\n",
    "o=g*24\n",
    "o"
   ]
  },
  {
   "cell_type": "code",
   "execution_count": 74,
   "id": "be0151ff-ee04-4a8c-a89d-f298ec3ff726",
   "metadata": {},
   "outputs": [
    {
     "data": {
      "text/plain": [
       "525600"
      ]
     },
     "execution_count": 74,
     "metadata": {},
     "output_type": "execute_result"
    }
   ],
   "source": [
    "m=o*60\n",
    "m"
   ]
  },
  {
   "cell_type": "code",
   "execution_count": 76,
   "id": "32b9c4a0-9db7-4420-8140-8f2ba49b0dfd",
   "metadata": {},
   "outputs": [
    {
     "data": {
      "text/plain": [
       "31536000"
      ]
     },
     "execution_count": 76,
     "metadata": {},
     "output_type": "execute_result"
    }
   ],
   "source": [
    "s=m*60\n",
    "s"
   ]
  },
  {
   "cell_type": "code",
   "execution_count": 79,
   "id": "68397267-90b7-45b0-9fb6-de5de6b35f15",
   "metadata": {},
   "outputs": [
    {
     "data": {
      "text/plain": [
       "'I AM STUDYING PYTHON'"
      ]
     },
     "execution_count": 79,
     "metadata": {},
     "output_type": "execute_result"
    }
   ],
   "source": [
    "str.upper(\"I am studying Python\")"
   ]
  },
  {
   "cell_type": "code",
   "execution_count": 81,
   "id": "97eccfdc-7673-4c0b-b2f1-d1f7b1113e9d",
   "metadata": {},
   "outputs": [
    {
     "data": {
      "text/plain": [
       "'i am studying python'"
      ]
     },
     "execution_count": 81,
     "metadata": {},
     "output_type": "execute_result"
    }
   ],
   "source": [
    "str.lower(\"I am studying Python\")"
   ]
  },
  {
   "cell_type": "code",
   "execution_count": 29,
   "id": "7265164e-ff92-4aee-960c-662b1116d784",
   "metadata": {},
   "outputs": [
    {
     "name": "stdout",
     "output_type": "stream",
     "text": [
      "I am studying a lot\n"
     ]
    }
   ],
   "source": [
    "str=\"I am studying Python\"\n",
    "t= str.replace(\"Python\",\"a lot\")\n",
    "print(t)"
   ]
  }
 ],
 "metadata": {
  "kernelspec": {
   "display_name": "Python 3 (ipykernel)",
   "language": "python",
   "name": "python3"
  },
  "language_info": {
   "codemirror_mode": {
    "name": "ipython",
    "version": 3
   },
   "file_extension": ".py",
   "mimetype": "text/x-python",
   "name": "python",
   "nbconvert_exporter": "python",
   "pygments_lexer": "ipython3",
   "version": "3.12.4"
  }
 },
 "nbformat": 4,
 "nbformat_minor": 5
}
